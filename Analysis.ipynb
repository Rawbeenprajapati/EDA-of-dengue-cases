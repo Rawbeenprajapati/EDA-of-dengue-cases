{
 "cells": [
  {
   "cell_type": "code",
   "execution_count": 1,
   "id": "900346ad",
   "metadata": {},
   "outputs": [
    {
     "data": {
      "text/html": [
       "<div>\n",
       "<style scoped>\n",
       "    .dataframe tbody tr th:only-of-type {\n",
       "        vertical-align: middle;\n",
       "    }\n",
       "\n",
       "    .dataframe tbody tr th {\n",
       "        vertical-align: top;\n",
       "    }\n",
       "\n",
       "    .dataframe thead th {\n",
       "        text-align: right;\n",
       "    }\n",
       "</style>\n",
       "<table border=\"1\" class=\"dataframe\">\n",
       "  <thead>\n",
       "    <tr style=\"text-align: right;\">\n",
       "      <th></th>\n",
       "      <th>Districts</th>\n",
       "      <th>2071/72</th>\n",
       "      <th>2072/73</th>\n",
       "      <th>2073/74</th>\n",
       "    </tr>\n",
       "  </thead>\n",
       "  <tbody>\n",
       "    <tr>\n",
       "      <th>0</th>\n",
       "      <td>Bara</td>\n",
       "      <td>0</td>\n",
       "      <td>2</td>\n",
       "      <td>4</td>\n",
       "    </tr>\n",
       "    <tr>\n",
       "      <th>1</th>\n",
       "      <td>Bhaktapur</td>\n",
       "      <td>1</td>\n",
       "      <td>1</td>\n",
       "      <td>0</td>\n",
       "    </tr>\n",
       "    <tr>\n",
       "      <th>2</th>\n",
       "      <td>Bhojpur</td>\n",
       "      <td>0</td>\n",
       "      <td>2</td>\n",
       "      <td>0</td>\n",
       "    </tr>\n",
       "    <tr>\n",
       "      <th>3</th>\n",
       "      <td>Chitwan</td>\n",
       "      <td>119</td>\n",
       "      <td>70</td>\n",
       "      <td>687</td>\n",
       "    </tr>\n",
       "    <tr>\n",
       "      <th>4</th>\n",
       "      <td>Dadeldhura</td>\n",
       "      <td>1</td>\n",
       "      <td>0</td>\n",
       "      <td>0</td>\n",
       "    </tr>\n",
       "    <tr>\n",
       "      <th>5</th>\n",
       "      <td>Dang</td>\n",
       "      <td>0</td>\n",
       "      <td>3</td>\n",
       "      <td>8</td>\n",
       "    </tr>\n",
       "    <tr>\n",
       "      <th>6</th>\n",
       "      <td>Doti</td>\n",
       "      <td>1</td>\n",
       "      <td>0</td>\n",
       "      <td>0</td>\n",
       "    </tr>\n",
       "    <tr>\n",
       "      <th>7</th>\n",
       "      <td>Gorkha</td>\n",
       "      <td>0</td>\n",
       "      <td>2</td>\n",
       "      <td>0</td>\n",
       "    </tr>\n",
       "    <tr>\n",
       "      <th>8</th>\n",
       "      <td>Gulmi</td>\n",
       "      <td>0</td>\n",
       "      <td>1</td>\n",
       "      <td>0</td>\n",
       "    </tr>\n",
       "    <tr>\n",
       "      <th>9</th>\n",
       "      <td>Ilam</td>\n",
       "      <td>0</td>\n",
       "      <td>0</td>\n",
       "      <td>0</td>\n",
       "    </tr>\n",
       "    <tr>\n",
       "      <th>10</th>\n",
       "      <td>Jhapa</td>\n",
       "      <td>8</td>\n",
       "      <td>2</td>\n",
       "      <td>405</td>\n",
       "    </tr>\n",
       "    <tr>\n",
       "      <th>11</th>\n",
       "      <td>Kailali</td>\n",
       "      <td>9</td>\n",
       "      <td>1</td>\n",
       "      <td>14</td>\n",
       "    </tr>\n",
       "    <tr>\n",
       "      <th>12</th>\n",
       "      <td>Kanchanpur</td>\n",
       "      <td>15</td>\n",
       "      <td>4</td>\n",
       "      <td>2</td>\n",
       "    </tr>\n",
       "    <tr>\n",
       "      <th>13</th>\n",
       "      <td>Kapilbastu</td>\n",
       "      <td>0</td>\n",
       "      <td>2</td>\n",
       "      <td>3</td>\n",
       "    </tr>\n",
       "    <tr>\n",
       "      <th>14</th>\n",
       "      <td>Kaski</td>\n",
       "      <td>0</td>\n",
       "      <td>1</td>\n",
       "      <td>1</td>\n",
       "    </tr>\n",
       "    <tr>\n",
       "      <th>15</th>\n",
       "      <td>Kathmandu</td>\n",
       "      <td>1</td>\n",
       "      <td>1</td>\n",
       "      <td>5</td>\n",
       "    </tr>\n",
       "    <tr>\n",
       "      <th>16</th>\n",
       "      <td>Kavre</td>\n",
       "      <td>0</td>\n",
       "      <td>1</td>\n",
       "      <td>2</td>\n",
       "    </tr>\n",
       "    <tr>\n",
       "      <th>17</th>\n",
       "      <td>Mahottari</td>\n",
       "      <td>0</td>\n",
       "      <td>0</td>\n",
       "      <td>3</td>\n",
       "    </tr>\n",
       "    <tr>\n",
       "      <th>18</th>\n",
       "      <td>Makwanpur</td>\n",
       "      <td>20</td>\n",
       "      <td>2</td>\n",
       "      <td>82</td>\n",
       "    </tr>\n",
       "    <tr>\n",
       "      <th>19</th>\n",
       "      <td>Nawalparasi</td>\n",
       "      <td>3</td>\n",
       "      <td>12</td>\n",
       "      <td>3</td>\n",
       "    </tr>\n",
       "    <tr>\n",
       "      <th>20</th>\n",
       "      <td>Palpa</td>\n",
       "      <td>0</td>\n",
       "      <td>4</td>\n",
       "      <td>0</td>\n",
       "    </tr>\n",
       "    <tr>\n",
       "      <th>21</th>\n",
       "      <td>Parsa</td>\n",
       "      <td>114</td>\n",
       "      <td>12</td>\n",
       "      <td>7</td>\n",
       "    </tr>\n",
       "    <tr>\n",
       "      <th>22</th>\n",
       "      <td>Pyuthan</td>\n",
       "      <td>0</td>\n",
       "      <td>1</td>\n",
       "      <td>1</td>\n",
       "    </tr>\n",
       "    <tr>\n",
       "      <th>23</th>\n",
       "      <td>Rautahat</td>\n",
       "      <td>0</td>\n",
       "      <td>0</td>\n",
       "      <td>0</td>\n",
       "    </tr>\n",
       "    <tr>\n",
       "      <th>24</th>\n",
       "      <td>Rupandehi</td>\n",
       "      <td>10</td>\n",
       "      <td>2</td>\n",
       "      <td>164</td>\n",
       "    </tr>\n",
       "  </tbody>\n",
       "</table>\n",
       "</div>"
      ],
      "text/plain": [
       "      Districts  2071/72  2072/73  2073/74\n",
       "0          Bara        0        2        4\n",
       "1     Bhaktapur        1        1        0\n",
       "2       Bhojpur        0        2        0\n",
       "3       Chitwan      119       70      687\n",
       "4    Dadeldhura        1        0        0\n",
       "5          Dang        0        3        8\n",
       "6          Doti        1        0        0\n",
       "7        Gorkha        0        2        0\n",
       "8         Gulmi        0        1        0\n",
       "9          Ilam        0        0        0\n",
       "10        Jhapa        8        2      405\n",
       "11      Kailali        9        1       14\n",
       "12   Kanchanpur       15        4        2\n",
       "13   Kapilbastu        0        2        3\n",
       "14        Kaski        0        1        1\n",
       "15    Kathmandu        1        1        5\n",
       "16        Kavre        0        1        2\n",
       "17    Mahottari        0        0        3\n",
       "18    Makwanpur       20        2       82\n",
       "19  Nawalparasi        3       12        3\n",
       "20        Palpa        0        4        0\n",
       "21        Parsa      114       12        7\n",
       "22      Pyuthan        0        1        1\n",
       "23     Rautahat        0        0        0\n",
       "24    Rupandehi       10        2      164"
      ]
     },
     "execution_count": 1,
     "metadata": {},
     "output_type": "execute_result"
    }
   ],
   "source": [
    "#importing dataset from csv file\n",
    "import pandas as pd\n",
    "dataset_df = pd.read_csv(\"dataset/dengue.csv\")\n",
    "dataset_df"
   ]
  },
  {
   "cell_type": "code",
   "execution_count": 30,
   "id": "7c31a0f1",
   "metadata": {},
   "outputs": [
    {
     "name": "stdout",
     "output_type": "stream",
     "text": [
      "<class 'pandas.core.frame.DataFrame'>\n",
      "RangeIndex: 25 entries, 0 to 24\n",
      "Data columns (total 4 columns):\n",
      " #   Column     Non-Null Count  Dtype \n",
      "---  ------     --------------  ----- \n",
      " 0   Districts  25 non-null     object\n",
      " 1   2071/72    25 non-null     int64 \n",
      " 2   2072/73    25 non-null     int64 \n",
      " 3   2073/74    25 non-null     int64 \n",
      "dtypes: int64(3), object(1)\n",
      "memory usage: 928.0+ bytes\n"
     ]
    }
   ],
   "source": [
    "#Dataset information\n",
    "dataset_df.info()"
   ]
  },
  {
   "cell_type": "markdown",
   "id": "7627fbfa",
   "metadata": {},
   "source": [
    "Overall, there are 4 different column where first column represents name of districts and rest of column contains data of postive case of dengue in 3 consecutive fiscal year 2071/72,2072/73 and 2073/74 where 25 entries  are seen in dataset.\n"
   ]
  },
  {
   "cell_type": "code",
   "execution_count": 31,
   "id": "0cf766ab",
   "metadata": {},
   "outputs": [
    {
     "data": {
      "image/png": "[encoded data removed]",
      "text/plain": [
       "<Figure size 432x288 with 1 Axes>"
      ]
     },
     "metadata": {
      "needs_background": "light"
     },
     "output_type": "display_data"
    }
   ],
   "source": [
    "import matplotlib\n",
    "import matplotlib.pyplot as plt\n",
    "bar_71_72 = dataset_df.plot.bar(x='Districts', y='2071/72')\n",
    "plt.title('Bar diagram of dengue positive cases of 2071/72 fiscal year')\n",
    "plt.xlabel('Districts')\n",
    "plt.ylabel('Data of 71/72')\n",
    "plt.show()"
   ]
  },
  {
   "cell_type": "markdown",
   "id": "85311d82",
   "metadata": {},
   "source": [
    "In summary, There are altogther 12 districts where dengue infection was found where chitwan was the peak one and bhaktapur,dhoti,kathmandu and many more etc were least one.However, Parsa was the second highest district in list of record of positive cases."
   ]
  },
  {
   "cell_type": "code",
   "execution_count": 51,
   "id": "b48d3f70",
   "metadata": {},
   "outputs": [
    {
     "data": {
      "image/png": "[encoded data removed]",
      "text/plain": [
       "<Figure size 432x288 with 1 Axes>"
      ]
     },
     "metadata": {
      "needs_background": "light"
     },
     "output_type": "display_data"
    }
   ],
   "source": [
    "bar_72_73 = dataset_df.plot.bar(x='Districts', y='2072/73')\n",
    "plt.title('Bar diagram of dengue positive cases of 2072/73 fiscal year')\n",
    "plt.xlabel('Districts')\n",
    "plt.ylabel('Data of 72/73')\n",
    "plt.show()"
   ]
  },
  {
   "cell_type": "markdown",
   "id": "34264b1b",
   "metadata": {},
   "source": [
    "In summary, There are altogther 20 districts where dengue infection was found where chitwan was the peak one as previous year and bhaktapur,kaski,Pyuthan and many more etc were least one.However, Parsa and Nawalparasi were the second highest district in list of record of positive cases."
   ]
  },
  {
   "cell_type": "code",
   "execution_count": 53,
   "id": "8adfbd20",
   "metadata": {},
   "outputs": [
    {
     "data": {
      "image/png": "[encoded data removed]",
      "text/plain": [
       "<Figure size 432x288 with 1 Axes>"
      ]
     },
     "metadata": {
      "needs_background": "light"
     },
     "output_type": "display_data"
    }
   ],
   "source": [
    "bar_73_74 = dataset_df.plot.bar(x='Districts', y='2073/74')\n",
    "plt.title('Bar diagram of dengue positive cases of 2073/74 fiscal year')\n",
    "plt.xlabel('Districts')\n",
    "plt.ylabel('Data of 73/74')\n",
    "plt.show()"
   ]
  },
  {
   "cell_type": "markdown",
   "id": "508a3774",
   "metadata": {},
   "source": [
    "In summary, There are altogther 12 districts where dengue infection was found where chitwan was the peak one as always and there are no cases at all in some district.However, Jhapa was the second highest district in list of record of positive cases."
   ]
  },
  {
   "cell_type": "code",
   "execution_count": 60,
   "id": "80e5a30d",
   "metadata": {},
   "outputs": [
    {
     "data": {
      "text/plain": [
       "['2071/72', '2072/73', '2073/74']"
      ]
     },
     "execution_count": 60,
     "metadata": {},
     "output_type": "execute_result"
    }
   ],
   "source": [
    "fiscal_year = ['2071/72','2072/73','2073/74']\n",
    "fiscal_year"
   ]
  },
  {
   "cell_type": "code",
   "execution_count": 54,
   "id": "a8a94341",
   "metadata": {},
   "outputs": [
    {
     "name": "stdout",
     "output_type": "stream",
     "text": [
      "The average cases in 2071/72 fiscal year is 12.08\n"
     ]
    }
   ],
   "source": [
    "#average positive cases of 2071/72\n",
    "avg_dataset_71_72_df = dataset_df['2071/72'].mean()\n",
    "first = avg_dataset_71_72_df\n",
    "print(f'The average cases in 2071/72 fiscal year is {first}')"
   ]
  },
  {
   "cell_type": "code",
   "execution_count": 55,
   "id": "0fb006c5",
   "metadata": {},
   "outputs": [
    {
     "name": "stdout",
     "output_type": "stream",
     "text": [
      "The average cases in 2072/73 fiscal year is 5.04\n"
     ]
    }
   ],
   "source": [
    "#average positive cases of 2072/73\n",
    "avg_dataset_72_73_df = dataset_df['2072/73'].mean()\n",
    "second = avg_dataset_72_73_df\n",
    "print(f'The average cases in 2072/73 fiscal year is {second}')"
   ]
  },
  {
   "cell_type": "code",
   "execution_count": 56,
   "id": "c93cacb8",
   "metadata": {},
   "outputs": [
    {
     "name": "stdout",
     "output_type": "stream",
     "text": [
      "The average cases in 2073/74 fiscal year is 55.64\n"
     ]
    }
   ],
   "source": [
    "#average positive cases of 2073/74\n",
    "avg_dataset_73_74_df = dataset_df['2073/74'].mean()\n",
    "third = avg_dataset_73_74_df\n",
    "print(f'The average cases in 2073/74 fiscal year is {third}')"
   ]
  },
  {
   "cell_type": "code",
   "execution_count": 69,
   "id": "51939665",
   "metadata": {},
   "outputs": [
    {
     "data": {
      "text/plain": [
       "[12.08, 5.04, 55.64]"
      ]
     },
     "execution_count": 69,
     "metadata": {},
     "output_type": "execute_result"
    }
   ],
   "source": [
    "avg_cases = [first,second,third]\n",
    "avg_cases"
   ]
  },
  {
   "cell_type": "code",
   "execution_count": 70,
   "id": "a2da5f89",
   "metadata": {},
   "outputs": [
    {
     "data": {
      "text/plain": [
       "Text(0, 0.5, 'Average cases')"
      ]
     },
     "execution_count": 70,
     "metadata": {},
     "output_type": "execute_result"
    },
    {
     "data": {
      "image/png": "[encoded data removed]",
      "text/plain": [
       "<Figure size 432x288 with 1 Axes>"
      ]
     },
     "metadata": {
      "needs_background": "light"
     },
     "output_type": "display_data"
    }
   ],
   "source": [
    "plt.bar(fiscal_year, avg_cases);\n",
    "plt.title('Bar diagram of Average dengue positive cases of 2071 to 2074 fiscal year')\n",
    "plt.xlabel('fiscal years')\n",
    "plt.ylabel('Average cases')"
   ]
  },
  {
   "cell_type": "markdown",
   "id": "fa461675",
   "metadata": {},
   "source": [
    "The given above bar diagram depicts that the average number of positive dengue cases declined during in 2072/73 year with respect to 2071/72 year but horrified growth was seen in 2073/74 which was 11 folds than previous year."
   ]
  },
  {
   "cell_type": "code",
   "execution_count": 57,
   "id": "ea8f9a8e",
   "metadata": {},
   "outputs": [
    {
     "name": "stdout",
     "output_type": "stream",
     "text": [
      "The total positive cases in 2071/72 fiscal year is 302\n"
     ]
    }
   ],
   "source": [
    "#total positive cases of 2071/72\n",
    "total_dataset_71_72_df = dataset_df['2071/72'].sum()\n",
    "t1 = total_dataset_71_72_df\n",
    "print(f'The total positive cases in 2071/72 fiscal year is {t1}')"
   ]
  },
  {
   "cell_type": "code",
   "execution_count": 58,
   "id": "9e9a27ce",
   "metadata": {},
   "outputs": [
    {
     "name": "stdout",
     "output_type": "stream",
     "text": [
      "The total positive cases in 2072/73 fiscal year is 126\n"
     ]
    }
   ],
   "source": [
    "#total positive cases of 2072/73\n",
    "total_dataset_72_73_df = dataset_df['2072/73'].sum()\n",
    "t2 = total_dataset_72_73_df\n",
    "print(f'The total positive cases in 2072/73 fiscal year is {t2}')"
   ]
  },
  {
   "cell_type": "code",
   "execution_count": 59,
   "id": "2a3fdd6a",
   "metadata": {},
   "outputs": [
    {
     "name": "stdout",
     "output_type": "stream",
     "text": [
      "The total positive cases in 2073/74 fiscal year is 1391\n"
     ]
    }
   ],
   "source": [
    "#total positive cases of 2073/74\n",
    "total_dataset_73_74_df = dataset_df['2073/74'].sum()\n",
    "t3 = total_dataset_73_74_df\n",
    "print(f'The total positive cases in 2073/74 fiscal year is {t3}')"
   ]
  },
  {
   "cell_type": "code",
   "execution_count": 67,
   "id": "3debc37e",
   "metadata": {},
   "outputs": [
    {
     "data": {
      "text/plain": [
       "[302, 126, 1391]"
      ]
     },
     "execution_count": 67,
     "metadata": {},
     "output_type": "execute_result"
    }
   ],
   "source": [
    "total_cases = [t1,t2,t3]\n",
    "total_cases "
   ]
  },
  {
   "cell_type": "code",
   "execution_count": 71,
   "id": "5395d80c",
   "metadata": {},
   "outputs": [
    {
     "data": {
      "text/plain": [
       "Text(0, 0.5, 'Total cases')"
      ]
     },
     "execution_count": 71,
     "metadata": {},
     "output_type": "execute_result"
    },
    {
     "data": {
      "image/png": "[encoded data removed]",
      "text/plain": [
       "<Figure size 432x288 with 1 Axes>"
      ]
     },
     "metadata": {
      "needs_background": "light"
     },
     "output_type": "display_data"
    }
   ],
   "source": [
    "plt.bar(fiscal_year, total_cases);\n",
    "plt.title('Bar diagram of total dengue positive cases of 2071 to 2074 fiscal year')\n",
    "plt.xlabel('fiscal years')\n",
    "plt.ylabel('Total cases')"
   ]
  },
  {
   "cell_type": "markdown",
   "id": "96c5a310",
   "metadata": {},
   "source": [
    "The given above bar diagram depicts that the total number of positive dengue cases declined during in 2072/73 year with respect to 2071/72 year but exorbitant growth was seen in 2073/74 which was approximately 11 folds than previous year."
   ]
  },
  {
   "cell_type": "code",
   "execution_count": 107,
   "id": "7901cc64",
   "metadata": {},
   "outputs": [],
   "source": [
    "#finding maximum affected district\n",
    "high_effect = dataset_df['2071/72'].max()"
   ]
  },
  {
   "cell_type": "markdown",
   "id": "5d659a6d",
   "metadata": {},
   "source": [
    "Among all the districts, Rupandehi in the mostly effected district during 2071 to 2074 fiscal years."
   ]
  }
 ],
 "metadata": {
  "kernelspec": {
   "display_name": "Python 3 (ipykernel)",
   "language": "python",
   "name": "python3"
  },
  "language_info": {
   "codemirror_mode": {
    "name": "ipython",
    "version": 3
   },
   "file_extension": ".py",
   "mimetype": "text/x-python",
   "name": "python",
   "nbconvert_exporter": "python",
   "pygments_lexer": "ipython3",
   "version": "3.10.6"
  }
 },
 "nbformat": 4,
 "nbformat_minor": 5
}
